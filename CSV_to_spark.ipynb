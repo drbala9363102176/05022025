{
  "nbformat": 4,
  "nbformat_minor": 0,
  "metadata": {
    "colab": {
      "provenance": [],
      "authorship_tag": "ABX9TyPyk00DThO6PZfeS67PrHIe",
      "include_colab_link": true
    },
    "kernelspec": {
      "name": "python3",
      "display_name": "Python 3"
    },
    "language_info": {
      "name": "python"
    }
  },
  "cells": [
    {
      "cell_type": "markdown",
      "metadata": {
        "id": "view-in-github",
        "colab_type": "text"
      },
      "source": [
        "<a href=\"https://colab.research.google.com/github/drbala9363102176/05022025/blob/main/CSV_to_spark.ipynb\" target=\"_parent\"><img src=\"https://colab.research.google.com/assets/colab-badge.svg\" alt=\"Open In Colab\"/></a>"
      ]
    },
    {
      "cell_type": "code",
      "source": [
        "\"\"\"Apache PySpark is the Python API for Apache Spark, an open source, distributed computing\n",
        "framework and set of libraries for real-time, large-scale data processing.\n",
        " If you're already familiar with Python and libraries such as Pandas,\n",
        " then PySpark is a good language to learn to create more scalable analyses\n",
        " and pipelines.\"\"\""
      ],
      "metadata": {
        "id": "3TbVRKk1ZGo7"
      },
      "execution_count": null,
      "outputs": []
    },
    {
      "cell_type": "code",
      "source": [
        "\"\"\"Hadoop is the foundation of your big data architecture. It's responsible\n",
        "for storing and processing your data. Spark is an in-memory processing\n",
        "engine that can perform real-time stream processing or batch processing\n",
        "on data stored in Hadoop\"\"\""
      ],
      "metadata": {
        "id": "DLewC_raZ4VG"
      },
      "execution_count": null,
      "outputs": []
    },
    {
      "cell_type": "code",
      "source": [
        "pip install pyspark"
      ],
      "metadata": {
        "colab": {
          "base_uri": "https://localhost:8080/"
        },
        "id": "e9CHce1s2u1v",
        "outputId": "bff91f30-1d28-463d-fbdd-7ee711310a75"
      },
      "execution_count": null,
      "outputs": [
        {
          "output_type": "stream",
          "name": "stdout",
          "text": [
            "Collecting pyspark\n",
            "  Downloading pyspark-3.5.1.tar.gz (317.0 MB)\n",
            "\u001b[2K     \u001b[90m━━━━━━━━━━━━━━━━━━━━━━━━━━━━━━━━━━━━━━━━\u001b[0m \u001b[32m317.0/317.0 MB\u001b[0m \u001b[31m4.5 MB/s\u001b[0m eta \u001b[36m0:00:00\u001b[0m\n",
            "\u001b[?25h  Preparing metadata (setup.py) ... \u001b[?25l\u001b[?25hdone\n",
            "Requirement already satisfied: py4j==0.10.9.7 in /usr/local/lib/python3.10/dist-packages (from pyspark) (0.10.9.7)\n",
            "Building wheels for collected packages: pyspark\n",
            "  Building wheel for pyspark (setup.py) ... \u001b[?25l\u001b[?25hdone\n",
            "  Created wheel for pyspark: filename=pyspark-3.5.1-py2.py3-none-any.whl size=317488490 sha256=ea13e2cfe3de3d5eb041b3ef3732253a972d53df138d916d162fc866454f789b\n",
            "  Stored in directory: /root/.cache/pip/wheels/80/1d/60/2c256ed38dddce2fdd93be545214a63e02fbd8d74fb0b7f3a6\n",
            "Successfully built pyspark\n",
            "Installing collected packages: pyspark\n",
            "Successfully installed pyspark-3.5.1\n"
          ]
        }
      ]
    },
    {
      "cell_type": "code",
      "source": [
        "#df.write.csv('foo.csv', header=True)\n",
        "#spark.read.csv('foo.csv', header=True).show()\n",
        "\n"
      ],
      "metadata": {
        "id": "p1oQkRty3Nz7"
      },
      "execution_count": null,
      "outputs": []
    },
    {
      "cell_type": "code",
      "source": [
        "#random csv creation\n",
        "import numpy as np\n",
        "from numpy import random\n",
        "import pandas as pd\n",
        "\n",
        "arr = ['Arun', 'Akash', 'Sanjay', 'Manu']\n",
        "a=np.random.choice(arr, 15, p=[0.5, 0.1, 0.1, 0.3])\n",
        "b = random.choice([30, 52, 72, 91,80,60], p=[0.1, 0.2, 0.3, 0.1,0.1,0.2], size=(15))\n",
        "c = random.choice([30, 52, 72, 91,80,60], p=[0.1, 0.2, 0.3, 0.1,0.1,0.2], size=(15))\n",
        "d = random.choice([30, 52, 72, 91,80,60], p=[0.1, 0.2, 0.3, 0.1,0.1,0.2], size=(15))\n",
        "e = random.choice([30, 52, 72, 91,80,60], p=[0.1, 0.2, 0.3, 0.1,0.1,0.2], size=(15))\n",
        "f = random.choice([30, 52, 72, 91,80,60], p=[0.1, 0.2, 0.3, 0.1,0.1,0.2], size=(15))\n",
        "print(a)\n",
        "print(b)\n",
        "print(c)\n",
        "print(d)\n",
        "print(e)\n",
        "print(f)\n",
        "frame={\"Name\":a, \"English\":b, \"Math\":b, \"Physics\":c,\"Chemistry\":d,\"Electronics\":e,\"CSE\":f}\n",
        "df=pd.DataFrame(frame)\n",
        "print(df)\n",
        "df.to_csv('file1.csv')"
      ],
      "metadata": {
        "colab": {
          "base_uri": "https://localhost:8080/"
        },
        "id": "vc7mROdnaGxy",
        "outputId": "de59034f-c0d5-46ee-8e8a-503ddf726727"
      },
      "execution_count": null,
      "outputs": [
        {
          "output_type": "stream",
          "name": "stdout",
          "text": [
            "['Arun' 'Arun' 'Arun' 'Manu' 'Manu' 'Akash' 'Akash' 'Manu' 'Akash' 'Manu'\n",
            " 'Arun' 'Arun' 'Akash' 'Akash' 'Arun']\n",
            "[60 30 80 72 52 80 72 52 52 72 80 60 72 52 72]\n",
            "[72 52 52 72 60 72 52 52 72 91 60 60 80 91 60]\n",
            "[60 80 52 52 60 60 72 72 72 80 52 52 52 52 80]\n",
            "[80 91 72 52 91 30 72 60 60 30 80 72 72 72 52]\n",
            "[52 91 72 72 60 52 52 60 60 30 91 80 72 72 80]\n",
            "     Name  English  Math  Physics  Chemistry  Electronics  CSE\n",
            "0    Arun       60    60       72         60           80   52\n",
            "1    Arun       30    30       52         80           91   91\n",
            "2    Arun       80    80       52         52           72   72\n",
            "3    Manu       72    72       72         52           52   72\n",
            "4    Manu       52    52       60         60           91   60\n",
            "5   Akash       80    80       72         60           30   52\n",
            "6   Akash       72    72       52         72           72   52\n",
            "7    Manu       52    52       52         72           60   60\n",
            "8   Akash       52    52       72         72           60   60\n",
            "9    Manu       72    72       91         80           30   30\n",
            "10   Arun       80    80       60         52           80   91\n",
            "11   Arun       60    60       60         52           72   80\n",
            "12  Akash       72    72       80         52           72   72\n",
            "13  Akash       52    52       91         52           72   72\n",
            "14   Arun       72    72       60         80           52   80\n"
          ]
        }
      ]
    },
    {
      "cell_type": "code",
      "source": [
        "#spark and panda\n",
        "import pyspark\n",
        "from pyspark.sql import SparkSession\n",
        "\n",
        "spark = SparkSession.builder.getOrCreate()\n",
        "import pandas as pd\n",
        "import numpy as np\n",
        "a=np.array([11,99,303,44,55,6])\n",
        "b=np.array([1,2,3,4,5,6])\n",
        "c=a+b\n",
        "d=np.array([\"Abi\",\"Bala\",\"Coulins\",\"Dinesh\",\"Elger\",\"Ganesh\"])\n",
        "frame={\"Name\":d, \"A\":a, \"B\":b, \"C\":c}\n",
        "g=pd.DataFrame(frame)\n",
        "print(\"\")\n",
        "print(g)\n",
        "df = spark.createDataFrame(g)\n",
        "\n",
        "df.show()\n"
      ],
      "metadata": {
        "colab": {
          "base_uri": "https://localhost:8080/"
        },
        "id": "2SngUFRI2-K3",
        "outputId": "065e5d8e-f7e1-408f-95f1-d2320e44ce41"
      },
      "execution_count": null,
      "outputs": [
        {
          "output_type": "stream",
          "name": "stdout",
          "text": [
            "\n",
            "      Name    A  B    C\n",
            "0      Abi   11  1   12\n",
            "1     Bala   99  2  101\n",
            "2  Coulins  303  3  306\n",
            "3   Dinesh   44  4   48\n",
            "4    Elger   55  5   60\n",
            "5   Ganesh    6  6   12\n",
            "+-------+---+---+---+\n",
            "|   Name|  A|  B|  C|\n",
            "+-------+---+---+---+\n",
            "|    Abi| 11|  1| 12|\n",
            "|   Bala| 99|  2|101|\n",
            "|Coulins|303|  3|306|\n",
            "| Dinesh| 44|  4| 48|\n",
            "|  Elger| 55|  5| 60|\n",
            "| Ganesh|  6|  6| 12|\n",
            "+-------+---+---+---+\n",
            "\n"
          ]
        }
      ]
    },
    {
      "cell_type": "code",
      "source": [
        "#read CSV"
      ],
      "metadata": {
        "id": "x1LvIuLlabz4"
      },
      "execution_count": null,
      "outputs": []
    },
    {
      "cell_type": "code",
      "source": [
        "import pyspark\n",
        "from pyspark.sql import SparkSession\n",
        "\n",
        "spark = SparkSession.builder.getOrCreate()\n",
        "df=spark.read.csv('file1.csv', header=True).show()\n"
      ],
      "metadata": {
        "colab": {
          "base_uri": "https://localhost:8080/"
        },
        "id": "bvohNCRm4BiB",
        "outputId": "2041f227-6460-49cd-852d-e30f449bc005"
      },
      "execution_count": null,
      "outputs": [
        {
          "output_type": "stream",
          "name": "stdout",
          "text": [
            "+---+-----+-------+----+-------+---------+-----------+---+\n",
            "|_c0| Name|English|Math|Physics|Chemistry|Electronics|CSE|\n",
            "+---+-----+-------+----+-------+---------+-----------+---+\n",
            "|  0| Arun|     60|  60|     72|       60|         80| 52|\n",
            "|  1| Arun|     30|  30|     52|       80|         91| 91|\n",
            "|  2| Arun|     80|  80|     52|       52|         72| 72|\n",
            "|  3| Manu|     72|  72|     72|       52|         52| 72|\n",
            "|  4| Manu|     52|  52|     60|       60|         91| 60|\n",
            "|  5|Akash|     80|  80|     72|       60|         30| 52|\n",
            "|  6|Akash|     72|  72|     52|       72|         72| 52|\n",
            "|  7| Manu|     52|  52|     52|       72|         60| 60|\n",
            "|  8|Akash|     52|  52|     72|       72|         60| 60|\n",
            "|  9| Manu|     72|  72|     91|       80|         30| 30|\n",
            "| 10| Arun|     80|  80|     60|       52|         80| 91|\n",
            "| 11| Arun|     60|  60|     60|       52|         72| 80|\n",
            "| 12|Akash|     72|  72|     80|       52|         72| 72|\n",
            "| 13|Akash|     52|  52|     91|       52|         72| 72|\n",
            "| 14| Arun|     72|  72|     60|       80|         52| 80|\n",
            "+---+-----+-------+----+-------+---------+-----------+---+\n",
            "\n"
          ]
        }
      ]
    },
    {
      "cell_type": "code",
      "source": [
        "import pyspark\n",
        "from pyspark.sql import SparkSession\n",
        "\n",
        "spark = SparkSession.builder.getOrCreate()\n",
        "df=spark.read.csv('file1.csv', header=True).show()"
      ],
      "metadata": {
        "id": "-EcSRKrpagMA",
        "outputId": "bf4e5261-a788-4b4a-d197-c77645efa8fd",
        "colab": {
          "base_uri": "https://localhost:8080/"
        }
      },
      "execution_count": null,
      "outputs": [
        {
          "output_type": "stream",
          "name": "stdout",
          "text": [
            "+---+------+-------+----+-------+---------+-----------+---+\n",
            "|_c0|  Name|English|Math|Physics|Chemistry|Electronics|CSE|\n",
            "+---+------+-------+----+-------+---------+-----------+---+\n",
            "|  0|  Arun|     30|  30|     60|       91|         72| 91|\n",
            "|  1|  Arun|     80|  80|     80|       52|         60| 52|\n",
            "|  2|  Manu|     52|  52|     60|       60|         91| 52|\n",
            "|  3|  Manu|     72|  72|     80|       72|         30| 30|\n",
            "|  4|  Arun|     30|  30|     60|       30|         60| 72|\n",
            "|  5|  Arun|     72|  72|     80|       60|         91| 60|\n",
            "|  6|  Arun|     72|  72|     60|       52|         52| 52|\n",
            "|  7|  Arun|     60|  60|     91|       60|         52| 72|\n",
            "|  8|  Arun|     30|  30|     60|       52|         30| 72|\n",
            "|  9|  Arun|     52|  52|     72|       52|         72| 91|\n",
            "| 10|  Manu|     72|  72|     72|       80|         60| 60|\n",
            "| 11|  Arun|     72|  72|     60|       72|         60| 91|\n",
            "| 12|  Arun|     72|  72|     80|       72|         72| 72|\n",
            "| 13|Sanjay|     60|  60|     60|       52|         60| 72|\n",
            "| 14|  Arun|     52|  52|     72|       72|         30| 80|\n",
            "+---+------+-------+----+-------+---------+-----------+---+\n",
            "\n"
          ]
        }
      ]
    },
    {
      "cell_type": "code",
      "source": [
        "#describe\n",
        "import pyspark\n",
        "from pyspark.sql import SparkSession\n",
        "\n",
        "spark = SparkSession.builder.getOrCreate()\n",
        "df=spark.read.csv('file1.csv', header=True)\n",
        "#df.show()\n",
        "df.select(\"Math\", \"CSE\", \"Name\").describe().show()"
      ],
      "metadata": {
        "colab": {
          "base_uri": "https://localhost:8080/"
        },
        "id": "GMV1JyIq4xAI",
        "outputId": "9e6d7fc2-f2b9-4092-b580-41a0c2ae5b15"
      },
      "execution_count": null,
      "outputs": [
        {
          "output_type": "stream",
          "name": "stdout",
          "text": [
            "+-------+------------------+------------------+-----+\n",
            "|summary|              Math|               CSE| Name|\n",
            "+-------+------------------+------------------+-----+\n",
            "|  count|                15|                15|   15|\n",
            "|   mean| 63.86666666666667|              66.4| NULL|\n",
            "| stddev|14.272184068853585|16.422110530797017| NULL|\n",
            "|    min|                30|                30|Akash|\n",
            "|    max|                80|                91| Manu|\n",
            "+-------+------------------+------------------+-----+\n",
            "\n"
          ]
        }
      ]
    },
    {
      "cell_type": "code",
      "source": [
        "#take\n",
        "import pyspark\n",
        "from pyspark.sql import SparkSession\n",
        "\n",
        "spark = SparkSession.builder.getOrCreate()\n",
        "df=spark.read.csv('file1.csv', header=True)\n",
        "df.take(2)"
      ],
      "metadata": {
        "colab": {
          "base_uri": "https://localhost:8080/"
        },
        "id": "zOT5iZWS5AL2",
        "outputId": "8af03358-5fc0-4583-ea8c-6112a43df9f1"
      },
      "execution_count": null,
      "outputs": [
        {
          "output_type": "execute_result",
          "data": {
            "text/plain": [
              "[Row(_c0='0', Name='Arun', English='60', Math='60', Physics='72', Chemistry='60', Electronics='80', CSE='52'),\n",
              " Row(_c0='1', Name='Arun', English='30', Math='30', Physics='52', Chemistry='80', Electronics='91', CSE='91')]"
            ]
          },
          "metadata": {},
          "execution_count": 7
        }
      ]
    },
    {
      "cell_type": "code",
      "source": [
        "#ascending\n",
        "import pyspark\n",
        "from pyspark.sql import SparkSession\n",
        "\n",
        "spark = SparkSession.builder.getOrCreate()\n",
        "df=spark.read.csv('file1.csv', header=True)\n",
        "df.orderBy(['Math'], ascending = [True]).show()"
      ],
      "metadata": {
        "id": "ECX4zY8T-sq0",
        "colab": {
          "base_uri": "https://localhost:8080/"
        },
        "outputId": "8434e6f1-9a89-4fd2-d9dd-12d2540129bf"
      },
      "execution_count": null,
      "outputs": [
        {
          "output_type": "stream",
          "name": "stdout",
          "text": [
            "+---+------+-------+----+-------+---------+-----------+---+\n",
            "|_c0|  Name|English|Math|Physics|Chemistry|Electronics|CSE|\n",
            "+---+------+-------+----+-------+---------+-----------+---+\n",
            "| 11| Akash|     30|  30|     72|       52|         52| 30|\n",
            "|  5|  Manu|     52|  52|     91|       30|         30| 91|\n",
            "|  6|  Manu|     52|  52|     60|       91|         72| 72|\n",
            "|  8|  Manu|     52|  52|     72|       91|         52| 30|\n",
            "| 12| Akash|     52|  52|     52|       72|         72| 72|\n",
            "|  4|  Manu|     60|  60|     52|       80|         52| 80|\n",
            "|  9|  Manu|     60|  60|     52|       52|         30| 80|\n",
            "| 14|  Manu|     60|  60|     52|       91|         52| 80|\n",
            "|  0|  Arun|     72|  72|     91|       30|         52| 91|\n",
            "|  1|  Manu|     72|  72|     52|       60|         91| 72|\n",
            "|  2|Sanjay|     72|  72|     91|       72|         72| 72|\n",
            "|  3|  Arun|     72|  72|     60|       72|         72| 80|\n",
            "|  7|  Manu|     72|  72|     30|       30|         91| 60|\n",
            "| 13|Sanjay|     72|  72|     52|       80|         30| 30|\n",
            "| 10|  Arun|     91|  91|     91|       30|         30| 60|\n",
            "+---+------+-------+----+-------+---------+-----------+---+\n",
            "\n"
          ]
        }
      ]
    },
    {
      "cell_type": "code",
      "source": [
        "#decending\n",
        "import pyspark\n",
        "from pyspark.sql import SparkSession\n",
        "\n",
        "spark = SparkSession.builder.getOrCreate()\n",
        "df=spark.read.csv('file1.csv', header=True)\n",
        "df.orderBy(['Math'], ascending = [False]).show()"
      ],
      "metadata": {
        "colab": {
          "base_uri": "https://localhost:8080/"
        },
        "id": "eilBQm1yPCO0",
        "outputId": "d431702a-ebea-4f98-a952-7bc0f378ef6e"
      },
      "execution_count": null,
      "outputs": [
        {
          "output_type": "stream",
          "name": "stdout",
          "text": [
            "+---+------+-------+----+-------+---------+-----------+---+\n",
            "|_c0|  Name|English|Math|Physics|Chemistry|Electronics|CSE|\n",
            "+---+------+-------+----+-------+---------+-----------+---+\n",
            "|  6|  Manu|     91|  91|     60|       80|         72| 60|\n",
            "|  4|  Arun|     80|  80|     60|       52|         60| 80|\n",
            "|  0|Sanjay|     72|  72|     72|       80|         52| 91|\n",
            "|  1|  Arun|     72|  72|     91|       72|         52| 72|\n",
            "|  5|Sanjay|     72|  72|     60|       80|         72| 60|\n",
            "|  7|  Arun|     72|  72|     72|       80|         72| 30|\n",
            "|  8|  Arun|     72|  72|     72|       52|         72| 72|\n",
            "| 11|  Arun|     72|  72|     52|       80|         52| 80|\n",
            "| 12|Sanjay|     72|  72|     72|       80|         72| 52|\n",
            "| 14|Sanjay|     72|  72|     52|       60|         60| 52|\n",
            "|  2|  Arun|     60|  60|     30|       72|         72| 72|\n",
            "|  3|  Manu|     52|  52|     72|       60|         80| 72|\n",
            "|  9| Akash|     52|  52|     60|       52|         91| 72|\n",
            "| 10|  Manu|     52|  52|     60|       60|         80| 72|\n",
            "| 13| Akash|     52|  52|     72|       52|         60| 91|\n",
            "+---+------+-------+----+-------+---------+-----------+---+\n",
            "\n"
          ]
        }
      ]
    },
    {
      "cell_type": "code",
      "source": [
        "import pyspark\n",
        "from pyspark.sql import SparkSession\n",
        "\n",
        "spark = SparkSession.builder.getOrCreate()\n",
        "df=spark.read.csv('file1.csv', header=True)\n",
        "df.show()\n",
        "df.collect()"
      ],
      "metadata": {
        "colab": {
          "base_uri": "https://localhost:8080/"
        },
        "id": "-1cF9BrYPIgZ",
        "outputId": "fcdc9f8f-dfcb-4e97-ac45-a31c7a159ebb"
      },
      "execution_count": null,
      "outputs": [
        {
          "output_type": "stream",
          "name": "stdout",
          "text": [
            "+---+------+-------+----+-------+---------+-----------+---+\n",
            "|_c0|  Name|English|Math|Physics|Chemistry|Electronics|CSE|\n",
            "+---+------+-------+----+-------+---------+-----------+---+\n",
            "|  0|  Arun|     72|  72|     91|       30|         52| 91|\n",
            "|  1|  Manu|     72|  72|     52|       60|         91| 72|\n",
            "|  2|Sanjay|     72|  72|     91|       72|         72| 72|\n",
            "|  3|  Arun|     72|  72|     60|       72|         72| 80|\n",
            "|  4|  Manu|     60|  60|     52|       80|         52| 80|\n",
            "|  5|  Manu|     52|  52|     91|       30|         30| 91|\n",
            "|  6|  Manu|     52|  52|     60|       91|         72| 72|\n",
            "|  7|  Manu|     72|  72|     30|       30|         91| 60|\n",
            "|  8|  Manu|     52|  52|     72|       91|         52| 30|\n",
            "|  9|  Manu|     60|  60|     52|       52|         30| 80|\n",
            "| 10|  Arun|     91|  91|     91|       30|         30| 60|\n",
            "| 11| Akash|     30|  30|     72|       52|         52| 30|\n",
            "| 12| Akash|     52|  52|     52|       72|         72| 72|\n",
            "| 13|Sanjay|     72|  72|     52|       80|         30| 30|\n",
            "| 14|  Manu|     60|  60|     52|       91|         52| 80|\n",
            "+---+------+-------+----+-------+---------+-----------+---+\n",
            "\n"
          ]
        },
        {
          "output_type": "execute_result",
          "data": {
            "text/plain": [
              "[Row(_c0='0', Name='Arun', English='72', Math='72', Physics='91', Chemistry='30', Electronics='52', CSE='91'),\n",
              " Row(_c0='1', Name='Manu', English='72', Math='72', Physics='52', Chemistry='60', Electronics='91', CSE='72'),\n",
              " Row(_c0='2', Name='Sanjay', English='72', Math='72', Physics='91', Chemistry='72', Electronics='72', CSE='72'),\n",
              " Row(_c0='3', Name='Arun', English='72', Math='72', Physics='60', Chemistry='72', Electronics='72', CSE='80'),\n",
              " Row(_c0='4', Name='Manu', English='60', Math='60', Physics='52', Chemistry='80', Electronics='52', CSE='80'),\n",
              " Row(_c0='5', Name='Manu', English='52', Math='52', Physics='91', Chemistry='30', Electronics='30', CSE='91'),\n",
              " Row(_c0='6', Name='Manu', English='52', Math='52', Physics='60', Chemistry='91', Electronics='72', CSE='72'),\n",
              " Row(_c0='7', Name='Manu', English='72', Math='72', Physics='30', Chemistry='30', Electronics='91', CSE='60'),\n",
              " Row(_c0='8', Name='Manu', English='52', Math='52', Physics='72', Chemistry='91', Electronics='52', CSE='30'),\n",
              " Row(_c0='9', Name='Manu', English='60', Math='60', Physics='52', Chemistry='52', Electronics='30', CSE='80'),\n",
              " Row(_c0='10', Name='Arun', English='91', Math='91', Physics='91', Chemistry='30', Electronics='30', CSE='60'),\n",
              " Row(_c0='11', Name='Akash', English='30', Math='30', Physics='72', Chemistry='52', Electronics='52', CSE='30'),\n",
              " Row(_c0='12', Name='Akash', English='52', Math='52', Physics='52', Chemistry='72', Electronics='72', CSE='72'),\n",
              " Row(_c0='13', Name='Sanjay', English='72', Math='72', Physics='52', Chemistry='80', Electronics='30', CSE='30'),\n",
              " Row(_c0='14', Name='Manu', English='60', Math='60', Physics='52', Chemistry='91', Electronics='52', CSE='80')]"
            ]
          },
          "metadata": {},
          "execution_count": 9
        }
      ]
    },
    {
      "cell_type": "code",
      "source": [
        "df.columns"
      ],
      "metadata": {
        "colab": {
          "base_uri": "https://localhost:8080/"
        },
        "id": "AF0_art7PSQX",
        "outputId": "d83488a7-9118-4816-8d2a-7a0c644c03bb"
      },
      "execution_count": null,
      "outputs": [
        {
          "output_type": "execute_result",
          "data": {
            "text/plain": [
              "['_c0',\n",
              " 'Name',\n",
              " 'English',\n",
              " 'Math',\n",
              " 'Physics',\n",
              " 'Chemistry',\n",
              " 'Electronics',\n",
              " 'CSE']"
            ]
          },
          "metadata": {},
          "execution_count": 8
        }
      ]
    },
    {
      "cell_type": "code",
      "source": [
        "a=df.count()\n",
        "print(a)"
      ],
      "metadata": {
        "colab": {
          "base_uri": "https://localhost:8080/"
        },
        "id": "-1FugsyRPZNw",
        "outputId": "6b7c7fe6-c6d8-48b5-f60d-3b46c721137b"
      },
      "execution_count": null,
      "outputs": [
        {
          "output_type": "stream",
          "name": "stdout",
          "text": [
            "15\n"
          ]
        }
      ]
    },
    {
      "cell_type": "code",
      "source": [
        "len(df.columns)"
      ],
      "metadata": {
        "colab": {
          "base_uri": "https://localhost:8080/"
        },
        "id": "vurQmAC0XdK0",
        "outputId": "c8f4a1ad-3cc0-4d3f-83ec-1fa800d2e089"
      },
      "execution_count": null,
      "outputs": [
        {
          "output_type": "execute_result",
          "data": {
            "text/plain": [
              "7"
            ]
          },
          "metadata": {},
          "execution_count": 4
        }
      ]
    },
    {
      "cell_type": "code",
      "source": [
        "df.count()"
      ],
      "metadata": {
        "colab": {
          "base_uri": "https://localhost:8080/"
        },
        "id": "Ikwhgzn_XvHI",
        "outputId": "326ef180-367e-46f9-beb6-d0c82b22d79c"
      },
      "execution_count": null,
      "outputs": [
        {
          "output_type": "execute_result",
          "data": {
            "text/plain": [
              "15"
            ]
          },
          "metadata": {},
          "execution_count": 10
        }
      ]
    },
    {
      "cell_type": "code",
      "source": [
        "df.filter(\"CSE= 80\").show()"
      ],
      "metadata": {
        "colab": {
          "base_uri": "https://localhost:8080/"
        },
        "id": "wZMoWq27PuDp",
        "outputId": "99322926-ffef-4ecd-aae7-de1dda83d396"
      },
      "execution_count": null,
      "outputs": [
        {
          "output_type": "stream",
          "name": "stdout",
          "text": [
            "+---+----+-------+----+-------+---------+-----------+---+\n",
            "|_c0|Name|English|Math|Physics|Chemistry|Electronics|CSE|\n",
            "+---+----+-------+----+-------+---------+-----------+---+\n",
            "| 11|Arun|     60|  60|     60|       52|         72| 80|\n",
            "| 14|Arun|     72|  72|     60|       80|         52| 80|\n",
            "+---+----+-------+----+-------+---------+-----------+---+\n",
            "\n"
          ]
        }
      ]
    },
    {
      "cell_type": "code",
      "source": [
        "a=df.filter(\"CSE= 80\")\n",
        "a.show()"
      ],
      "metadata": {
        "colab": {
          "base_uri": "https://localhost:8080/"
        },
        "id": "bT-LEnVerc1u",
        "outputId": "5badb79e-0031-4609-f341-ce9c5ce57f23"
      },
      "execution_count": null,
      "outputs": [
        {
          "output_type": "stream",
          "name": "stdout",
          "text": [
            "+---+----+-------+----+-------+---------+-----------+---+\n",
            "|_c0|Name|English|Math|Physics|Chemistry|Electronics|CSE|\n",
            "+---+----+-------+----+-------+---------+-----------+---+\n",
            "|  4|Arun|     80|  80|     60|       52|         60| 80|\n",
            "| 11|Arun|     72|  72|     52|       80|         52| 80|\n",
            "+---+----+-------+----+-------+---------+-----------+---+\n",
            "\n"
          ]
        }
      ]
    },
    {
      "cell_type": "code",
      "source": [
        "df.filter(df.Name.contains(\"Manu\")).show()"
      ],
      "metadata": {
        "colab": {
          "base_uri": "https://localhost:8080/"
        },
        "id": "FBcd6x_9Slj_",
        "outputId": "03d10131-3f7f-4c54-9b14-754d694cdfbc"
      },
      "execution_count": null,
      "outputs": [
        {
          "output_type": "stream",
          "name": "stdout",
          "text": [
            "+---+----+-------+----+-------+---------+-----------+---+\n",
            "|_c0|Name|English|Math|Physics|Chemistry|Electronics|CSE|\n",
            "+---+----+-------+----+-------+---------+-----------+---+\n",
            "|  1|Manu|     72|  72|     52|       60|         91| 72|\n",
            "|  4|Manu|     60|  60|     52|       80|         52| 80|\n",
            "|  5|Manu|     52|  52|     91|       30|         30| 91|\n",
            "|  6|Manu|     52|  52|     60|       91|         72| 72|\n",
            "|  7|Manu|     72|  72|     30|       30|         91| 60|\n",
            "|  8|Manu|     52|  52|     72|       91|         52| 30|\n",
            "|  9|Manu|     60|  60|     52|       52|         30| 80|\n",
            "| 14|Manu|     60|  60|     52|       91|         52| 80|\n",
            "+---+----+-------+----+-------+---------+-----------+---+\n",
            "\n"
          ]
        }
      ]
    },
    {
      "cell_type": "code",
      "source": [
        "df.filter((df.Name == \"Manu\") &\n",
        "                 (df.CSE== \"30\")).show()"
      ],
      "metadata": {
        "colab": {
          "base_uri": "https://localhost:8080/"
        },
        "id": "PFqo19SQStMd",
        "outputId": "0cdfd7fb-b453-421e-f84b-f18622ec0020"
      },
      "execution_count": null,
      "outputs": [
        {
          "output_type": "stream",
          "name": "stdout",
          "text": [
            "+---+----+-------+----+-------+---------+-----------+---+\n",
            "|_c0|Name|English|Math|Physics|Chemistry|Electronics|CSE|\n",
            "+---+----+-------+----+-------+---------+-----------+---+\n",
            "|  8|Manu|     52|  52|     72|       91|         52| 30|\n",
            "+---+----+-------+----+-------+---------+-----------+---+\n",
            "\n"
          ]
        }
      ]
    },
    {
      "cell_type": "code",
      "source": [
        "df.filter((df.Name == \"Abi\") |\n",
        "                 (df.CSE== \"30\")).show()"
      ],
      "metadata": {
        "colab": {
          "base_uri": "https://localhost:8080/"
        },
        "id": "qRj1faD3U74F",
        "outputId": "f1d8418c-c2e8-405e-9f10-302b0286edff"
      },
      "execution_count": null,
      "outputs": [
        {
          "output_type": "stream",
          "name": "stdout",
          "text": [
            "+---+----+-------+----+-------+---------+-----------+---+\n",
            "|_c0|Name|English|Math|Physics|Chemistry|Electronics|CSE|\n",
            "+---+----+-------+----+-------+---------+-----------+---+\n",
            "| 10|Arun|     91|  91|     72|       52|         72| 30|\n",
            "| 11|Arun|     72|  72|     60|       52|         52| 30|\n",
            "+---+----+-------+----+-------+---------+-----------+---+\n",
            "\n"
          ]
        }
      ]
    },
    {
      "cell_type": "code",
      "source": [
        "df.filter(\"Name = 'Bala' or Name = 'Manu'\").show()"
      ],
      "metadata": {
        "colab": {
          "base_uri": "https://localhost:8080/"
        },
        "id": "NoEGQCGtVFev",
        "outputId": "f16250da-efeb-471c-d1d1-d8c4e32faeef"
      },
      "execution_count": null,
      "outputs": [
        {
          "output_type": "stream",
          "name": "stdout",
          "text": [
            "+---+----+-------+----+-------+---------+-----------+---+\n",
            "|_c0|Name|English|Math|Physics|Chemistry|Electronics|CSE|\n",
            "+---+----+-------+----+-------+---------+-----------+---+\n",
            "|  0|Manu|     52|  52|     72|       30|         91| 30|\n",
            "|  1|Manu|     80|  80|     60|       52|         91| 60|\n",
            "|  3|Manu|     52|  52|     60|       60|         52| 60|\n",
            "|  5|Manu|     72|  72|     60|       60|         60| 52|\n",
            "|  6|Manu|     72|  72|     52|       72|         60| 80|\n",
            "|  7|Manu|     52|  52|     80|       30|         60| 52|\n",
            "|  8|Manu|     60|  60|     30|       72|         60| 60|\n",
            "| 11|Manu|     72|  72|     30|       72|         52| 60|\n",
            "| 13|Manu|     52|  52|     60|       80|         60| 30|\n",
            "+---+----+-------+----+-------+---------+-----------+---+\n",
            "\n"
          ]
        }
      ]
    },
    {
      "cell_type": "code",
      "source": [
        "df.filter(\"Name = 'Bala' and Name = 'Manu'\").show()"
      ],
      "metadata": {
        "colab": {
          "base_uri": "https://localhost:8080/"
        },
        "id": "bzZqybn9VUbi",
        "outputId": "e441b060-69d3-4e38-fda5-4f9cd0f8daa4"
      },
      "execution_count": null,
      "outputs": [
        {
          "output_type": "stream",
          "name": "stdout",
          "text": [
            "+---+----+-------+----+-------+---------+-----------+---+\n",
            "|_c0|Name|English|Math|Physics|Chemistry|Electronics|CSE|\n",
            "+---+----+-------+----+-------+---------+-----------+---+\n",
            "+---+----+-------+----+-------+---------+-----------+---+\n",
            "\n"
          ]
        }
      ]
    },
    {
      "cell_type": "code",
      "source": [
        "df.where(df.CSE >75).show()\n"
      ],
      "metadata": {
        "colab": {
          "base_uri": "https://localhost:8080/"
        },
        "id": "ZIf3z8ovVrP7",
        "outputId": "9ab0c5b0-c19a-4e3b-d5f4-d891ae518e4b"
      },
      "execution_count": null,
      "outputs": [
        {
          "output_type": "stream",
          "name": "stdout",
          "text": [
            "+---+----+-------+----+-------+---------+-----------+---+\n",
            "|_c0|Name|English|Math|Physics|Chemistry|Electronics|CSE|\n",
            "+---+----+-------+----+-------+---------+-----------+---+\n",
            "|  2|Manu|     91|  91|     72|       72|         60| 80|\n",
            "|  8|Arun|     91|  91|     91|       72|         60| 91|\n",
            "+---+----+-------+----+-------+---------+-----------+---+\n",
            "\n"
          ]
        }
      ]
    },
    {
      "cell_type": "code",
      "source": [
        "df1=df.where(df.CSE >75)\n",
        "df1.show()"
      ],
      "metadata": {
        "colab": {
          "base_uri": "https://localhost:8080/"
        },
        "id": "FoPpQ5NXV0Yx",
        "outputId": "208f1868-6a96-4719-f39f-2ad9d925521f"
      },
      "execution_count": null,
      "outputs": [
        {
          "output_type": "stream",
          "name": "stdout",
          "text": [
            "+---+----+-------+----+-------+---------+-----------+---+\n",
            "|_c0|Name|English|Math|Physics|Chemistry|Electronics|CSE|\n",
            "+---+----+-------+----+-------+---------+-----------+---+\n",
            "|  6|Manu|     72|  72|     52|       72|         60| 80|\n",
            "|  9|Arun|     60|  60|     52|       72|         72| 80|\n",
            "+---+----+-------+----+-------+---------+-----------+---+\n",
            "\n"
          ]
        }
      ]
    },
    {
      "cell_type": "code",
      "source": [
        "df.where(df.CSE >75).collect()"
      ],
      "metadata": {
        "colab": {
          "base_uri": "https://localhost:8080/"
        },
        "id": "T1xp45LBVhpF",
        "outputId": "52d766a1-48ec-4c76-eaee-f83de2fb2ee3"
      },
      "execution_count": null,
      "outputs": [
        {
          "output_type": "execute_result",
          "data": {
            "text/plain": [
              "[Row(_c0='6', Name='Manu', English='72', Math='72', Physics='52', Chemistry='72', Electronics='60', CSE='80'),\n",
              " Row(_c0='9', Name='Arun', English='60', Math='60', Physics='52', Chemistry='72', Electronics='72', CSE='80')]"
            ]
          },
          "metadata": {},
          "execution_count": 36
        }
      ]
    },
    {
      "cell_type": "code",
      "source": [
        "df.select(df.CSE, df.CSE.between(80,86)).show()"
      ],
      "metadata": {
        "colab": {
          "base_uri": "https://localhost:8080/"
        },
        "id": "-gdTeHiQWCFE",
        "outputId": "73cbea3b-fb73-44cc-aaf5-f0543512dea1"
      },
      "execution_count": null,
      "outputs": [
        {
          "output_type": "stream",
          "name": "stdout",
          "text": [
            "+---+-----------------------------+\n",
            "|CSE|((CSE >= 80) AND (CSE <= 86))|\n",
            "+---+-----------------------------+\n",
            "| 91|                        false|\n",
            "| 72|                        false|\n",
            "| 72|                        false|\n",
            "| 80|                         true|\n",
            "| 80|                         true|\n",
            "| 91|                        false|\n",
            "| 72|                        false|\n",
            "| 60|                        false|\n",
            "| 30|                        false|\n",
            "| 80|                         true|\n",
            "| 60|                        false|\n",
            "| 30|                        false|\n",
            "| 72|                        false|\n",
            "| 30|                        false|\n",
            "| 80|                         true|\n",
            "+---+-----------------------------+\n",
            "\n"
          ]
        }
      ]
    },
    {
      "cell_type": "code",
      "source": [],
      "metadata": {
        "id": "8hGuvifbWK0m"
      },
      "execution_count": null,
      "outputs": []
    },
    {
      "cell_type": "code",
      "source": [
        "\n",
        "df.withColumnRenamed(\"Electronics\",\"ECE\").show(truncate=False)"
      ],
      "metadata": {
        "colab": {
          "base_uri": "https://localhost:8080/"
        },
        "id": "8TpVqXHBQoLv",
        "outputId": "3e01943d-8365-41af-8558-34a9e46aad3f"
      },
      "execution_count": null,
      "outputs": [
        {
          "output_type": "stream",
          "name": "stdout",
          "text": [
            "+---+----+-------+----+-------+---------+---+---+\n",
            "|_c0|Name|English|Math|Physics|Chemistry|ECE|CSE|\n",
            "+---+----+-------+----+-------+---------+---+---+\n",
            "|0  |Manu|52     |52  |72     |30       |91 |30 |\n",
            "|1  |Manu|80     |80  |60     |52       |91 |60 |\n",
            "|2  |Arun|80     |80  |72     |80       |72 |52 |\n",
            "|3  |Manu|52     |52  |60     |60       |52 |60 |\n",
            "|4  |Arun|72     |72  |72     |30       |91 |72 |\n",
            "|5  |Manu|72     |72  |60     |60       |60 |52 |\n",
            "|6  |Manu|72     |72  |52     |72       |60 |80 |\n",
            "|7  |Manu|52     |52  |80     |30       |60 |52 |\n",
            "|8  |Manu|60     |60  |30     |72       |60 |60 |\n",
            "|9  |Arun|60     |60  |52     |72       |72 |80 |\n",
            "|10 |Arun|60     |60  |91     |60       |91 |72 |\n",
            "|11 |Manu|72     |72  |30     |72       |52 |60 |\n",
            "|12 |Arun|60     |60  |91     |72       |91 |52 |\n",
            "|13 |Manu|52     |52  |60     |80       |60 |30 |\n",
            "|14 |Arun|72     |72  |52     |30       |60 |72 |\n",
            "+---+----+-------+----+-------+---------+---+---+\n",
            "\n"
          ]
        }
      ]
    },
    {
      "cell_type": "code",
      "source": [
        "#spark to pandas\n",
        "pandasDF = df.toPandas()\n",
        "print(pandasDF)"
      ],
      "metadata": {
        "colab": {
          "base_uri": "https://localhost:8080/"
        },
        "id": "FVZBToxI17Yr",
        "outputId": "99e856a7-e5b2-4e47-d80c-a27e27a39832"
      },
      "execution_count": null,
      "outputs": [
        {
          "output_type": "stream",
          "name": "stdout",
          "text": [
            "   _c0    Name English Math Physics Chemistry Electronics CSE\n",
            "0    0    Arun      72   72      91        30          52  91\n",
            "1    1    Manu      72   72      52        60          91  72\n",
            "2    2  Sanjay      72   72      91        72          72  72\n",
            "3    3    Arun      72   72      60        72          72  80\n",
            "4    4    Manu      60   60      52        80          52  80\n",
            "5    5    Manu      52   52      91        30          30  91\n",
            "6    6    Manu      52   52      60        91          72  72\n",
            "7    7    Manu      72   72      30        30          91  60\n",
            "8    8    Manu      52   52      72        91          52  30\n",
            "9    9    Manu      60   60      52        52          30  80\n",
            "10  10    Arun      91   91      91        30          30  60\n",
            "11  11   Akash      30   30      72        52          52  30\n",
            "12  12   Akash      52   52      52        72          72  72\n",
            "13  13  Sanjay      72   72      52        80          30  30\n",
            "14  14    Manu      60   60      52        91          52  80\n"
          ]
        }
      ]
    },
    {
      "cell_type": "code",
      "source": [
        "pandasDF = df.toPandas()\n",
        "\n",
        "# Select specific columns by their names\n",
        "selected_columns = pandasDF[['Name', 'English', 'Math']]\n",
        "print(selected_columns)"
      ],
      "metadata": {
        "colab": {
          "base_uri": "https://localhost:8080/"
        },
        "id": "NfrUSrxzsIJE",
        "outputId": "7c0c8592-c670-4c14-ce4b-d4770bf5ce05"
      },
      "execution_count": null,
      "outputs": [
        {
          "output_type": "stream",
          "name": "stdout",
          "text": [
            "     Name English Math\n",
            "0    Arun      60   60\n",
            "1    Arun      30   30\n",
            "2    Arun      80   80\n",
            "3    Manu      72   72\n",
            "4    Manu      52   52\n",
            "5   Akash      80   80\n",
            "6   Akash      72   72\n",
            "7    Manu      52   52\n",
            "8   Akash      52   52\n",
            "9    Manu      72   72\n",
            "10   Arun      80   80\n",
            "11   Arun      60   60\n",
            "12  Akash      72   72\n",
            "13  Akash      52   52\n",
            "14   Arun      72   72\n"
          ]
        }
      ]
    },
    {
      "cell_type": "code",
      "source": [
        "pandasDF = df.toPandas().reset_index(drop=False)\n",
        "print(pandasDF)\n"
      ],
      "metadata": {
        "colab": {
          "base_uri": "https://localhost:8080/"
        },
        "id": "sgicFTdhrcGr",
        "outputId": "3cbd860f-aec3-4326-a6b0-73af92036a03"
      },
      "execution_count": null,
      "outputs": [
        {
          "output_type": "stream",
          "name": "stdout",
          "text": [
            "    index _c0   Name English Math Physics Chemistry Electronics CSE\n",
            "0       0   0   Arun      60   60      72        60          80  52\n",
            "1       1   1   Arun      30   30      52        80          91  91\n",
            "2       2   2   Arun      80   80      52        52          72  72\n",
            "3       3   3   Manu      72   72      72        52          52  72\n",
            "4       4   4   Manu      52   52      60        60          91  60\n",
            "5       5   5  Akash      80   80      72        60          30  52\n",
            "6       6   6  Akash      72   72      52        72          72  52\n",
            "7       7   7   Manu      52   52      52        72          60  60\n",
            "8       8   8  Akash      52   52      72        72          60  60\n",
            "9       9   9   Manu      72   72      91        80          30  30\n",
            "10     10  10   Arun      80   80      60        52          80  91\n",
            "11     11  11   Arun      60   60      60        52          72  80\n",
            "12     12  12  Akash      72   72      80        52          72  72\n",
            "13     13  13  Akash      52   52      91        52          72  72\n",
            "14     14  14   Arun      72   72      60        80          52  80\n"
          ]
        }
      ]
    },
    {
      "cell_type": "code",
      "source": [
        "pandasDF = df.toPandas()\n",
        "pandasDF.index = range(len(pandasDF))  # Setting a new range index\n",
        "print(pandasDF)\n"
      ],
      "metadata": {
        "colab": {
          "base_uri": "https://localhost:8080/"
        },
        "id": "BppzYtRirows",
        "outputId": "3bd57591-fc88-46ae-f10f-9592e7be4a17"
      },
      "execution_count": null,
      "outputs": [
        {
          "output_type": "stream",
          "name": "stdout",
          "text": [
            "   _c0   Name English Math Physics Chemistry Electronics CSE\n",
            "0    0   Arun      60   60      72        60          80  52\n",
            "1    1   Arun      30   30      52        80          91  91\n",
            "2    2   Arun      80   80      52        52          72  72\n",
            "3    3   Manu      72   72      72        52          52  72\n",
            "4    4   Manu      52   52      60        60          91  60\n",
            "5    5  Akash      80   80      72        60          30  52\n",
            "6    6  Akash      72   72      52        72          72  52\n",
            "7    7   Manu      52   52      52        72          60  60\n",
            "8    8  Akash      52   52      72        72          60  60\n",
            "9    9   Manu      72   72      91        80          30  30\n",
            "10  10   Arun      80   80      60        52          80  91\n",
            "11  11   Arun      60   60      60        52          72  80\n",
            "12  12  Akash      72   72      80        52          72  72\n",
            "13  13  Akash      52   52      91        52          72  72\n",
            "14  14   Arun      72   72      60        80          52  80\n"
          ]
        }
      ]
    },
    {
      "cell_type": "code",
      "source": [
        "pandasDF = df.toPandas()\n",
        "pandasDF.reset_index(drop=False, inplace=False)\n",
        "print(pandasDF)"
      ],
      "metadata": {
        "colab": {
          "base_uri": "https://localhost:8080/"
        },
        "id": "ohS0h29MrArU",
        "outputId": "d1a16654-6b50-4798-862a-2e96d7b03e53"
      },
      "execution_count": null,
      "outputs": [
        {
          "output_type": "stream",
          "name": "stdout",
          "text": [
            "   _c0   Name English Math Physics Chemistry Electronics CSE\n",
            "0    0   Arun      60   60      72        60          80  52\n",
            "1    1   Arun      30   30      52        80          91  91\n",
            "2    2   Arun      80   80      52        52          72  72\n",
            "3    3   Manu      72   72      72        52          52  72\n",
            "4    4   Manu      52   52      60        60          91  60\n",
            "5    5  Akash      80   80      72        60          30  52\n",
            "6    6  Akash      72   72      52        72          72  52\n",
            "7    7   Manu      52   52      52        72          60  60\n",
            "8    8  Akash      52   52      72        72          60  60\n",
            "9    9   Manu      72   72      91        80          30  30\n",
            "10  10   Arun      80   80      60        52          80  91\n",
            "11  11   Arun      60   60      60        52          72  80\n",
            "12  12  Akash      72   72      80        52          72  72\n",
            "13  13  Akash      52   52      91        52          72  72\n",
            "14  14   Arun      72   72      60        80          52  80\n"
          ]
        }
      ]
    },
    {
      "cell_type": "code",
      "source": [
        "import pyspark\n",
        "from pyspark.sql import SparkSession\n",
        "from pyspark.sql.types import StructType, StructField, StringType, IntegerType\n",
        "\n",
        "# Create a Spark session\n",
        "spark = SparkSession.builder.getOrCreate()\n",
        "\n",
        "import pandas as pd\n",
        "import numpy as np\n",
        "\n",
        "# Sample data\n",
        "a = np.array([11, 99, 303, 44, 55, 6])\n",
        "b = np.array([1, 2, 3, 4, 5, 6])\n",
        "c = a + b\n",
        "d = np.array([\"Abi\", \"Bala\", \"Coulins\", \"Dinesh\", \"Elger\", \"Ganesh\"])\n",
        "\n",
        "# Create a dictionary containing the data\n",
        "data = {\"Name\": d, \"A\": a, \"B\": b, \"C\": c}\n",
        "\n",
        "# Create a pandas DataFrame\n",
        "pandas_df = pd.DataFrame(data)\n",
        "\n",
        "# Convert pandas DataFrame to Spark DataFrame\n",
        "spark_df = spark.createDataFrame(pandas_df)\n",
        "\n",
        "# Show the Spark DataFrame\n",
        "spark_df.show()\n"
      ],
      "metadata": {
        "colab": {
          "base_uri": "https://localhost:8080/"
        },
        "id": "kPsc-lN03MHW",
        "outputId": "a67dfab2-68f7-4b7f-ea7b-8db34c9ede97"
      },
      "execution_count": null,
      "outputs": [
        {
          "output_type": "stream",
          "name": "stdout",
          "text": [
            "+-------+---+---+---+\n",
            "|   Name|  A|  B|  C|\n",
            "+-------+---+---+---+\n",
            "|    Abi| 11|  1| 12|\n",
            "|   Bala| 99|  2|101|\n",
            "|Coulins|303|  3|306|\n",
            "| Dinesh| 44|  4| 48|\n",
            "|  Elger| 55|  5| 60|\n",
            "| Ganesh|  6|  6| 12|\n",
            "+-------+---+---+---+\n",
            "\n"
          ]
        }
      ]
    },
    {
      "cell_type": "code",
      "source": [],
      "metadata": {
        "id": "jYJqbfw5rqaH"
      },
      "execution_count": null,
      "outputs": []
    },
    {
      "cell_type": "code",
      "source": [
        "#Pandas to spark\n"
      ],
      "metadata": {
        "id": "BfXJiFFy2cRj"
      },
      "execution_count": null,
      "outputs": []
    },
    {
      "cell_type": "code",
      "source": [
        "from pyspark.sql import SparkSession\n",
        "from pyspark.sql.functions import col, min, max\n",
        "\n",
        "# Create a Spark session\n",
        "spark = SparkSession.builder.appName(\"CSVReadExample\").getOrCreate()\n",
        "\n",
        "# Read the CSV file\n",
        "file_path = \"file1.csv\"\n",
        "df = spark.read.csv(file_path, header=True, inferSchema=True)\n",
        "\n",
        "# Show the first few rows of the DataFrame\n",
        "df.show()\n",
        "\n",
        "# Get the size (number of rows) of the DataFrame\n",
        "size = df.count()\n",
        "print(\"Size:\", size)\n",
        "\n",
        "# Get the shape (number of rows, number of columns) of the DataFrame\n",
        "num_rows = df.count()\n",
        "num_cols = len(df.columns)\n",
        "shape = (num_rows, num_cols)\n",
        "print(\"Shape:\", shape)\n",
        "\n",
        "# Find the minimum and maximum values for numeric columns\n",
        "numeric_cols = [col_name for col_name, col_type in df.dtypes if col_type in (\"int\", \"double\")]\n",
        "\"\"\"min_max_values = df.select([min(col(math)).alias(\"min_\" + col_name), max(col(col_name)).alias(\"max_\" + col_name) for col_name in numeric_cols])\n",
        "min_max_values.show()\n",
        "\n",
        "# Stop the Spark session\n",
        "spark.stop()\"\"\"\n"
      ],
      "metadata": {
        "colab": {
          "base_uri": "https://localhost:8080/",
          "height": 452
        },
        "id": "9r5rUwKnsOCW",
        "outputId": "b37c06cb-c8ba-4e22-d6d7-bff561a64370"
      },
      "execution_count": null,
      "outputs": [
        {
          "output_type": "stream",
          "name": "stdout",
          "text": [
            "+---+------+-------+----+-------+---------+-----------+---+\n",
            "|_c0|  Name|English|Math|Physics|Chemistry|Electronics|CSE|\n",
            "+---+------+-------+----+-------+---------+-----------+---+\n",
            "|  0|Sanjay|     72|  72|     72|       80|         52| 91|\n",
            "|  1|  Arun|     72|  72|     91|       72|         52| 72|\n",
            "|  2|  Arun|     60|  60|     30|       72|         72| 72|\n",
            "|  3|  Manu|     52|  52|     72|       60|         80| 72|\n",
            "|  4|  Arun|     80|  80|     60|       52|         60| 80|\n",
            "|  5|Sanjay|     72|  72|     60|       80|         72| 60|\n",
            "|  6|  Manu|     91|  91|     60|       80|         72| 60|\n",
            "|  7|  Arun|     72|  72|     72|       80|         72| 30|\n",
            "|  8|  Arun|     72|  72|     72|       52|         72| 72|\n",
            "|  9| Akash|     52|  52|     60|       52|         91| 72|\n",
            "| 10|  Manu|     52|  52|     60|       60|         80| 72|\n",
            "| 11|  Arun|     72|  72|     52|       80|         52| 80|\n",
            "| 12|Sanjay|     72|  72|     72|       80|         72| 52|\n",
            "| 13| Akash|     52|  52|     72|       52|         60| 91|\n",
            "| 14|Sanjay|     72|  72|     52|       60|         60| 52|\n",
            "+---+------+-------+----+-------+---------+-----------+---+\n",
            "\n",
            "Size: 15\n",
            "Shape: (15, 8)\n"
          ]
        },
        {
          "output_type": "execute_result",
          "data": {
            "text/plain": [
              "'min_max_values = df.select([min(col(math)).alias(\"min_\" + col_name), max(col(col_name)).alias(\"max_\" + col_name) for col_name in numeric_cols])\\nmin_max_values.show()\\n\\n# Stop the Spark session\\nspark.stop()'"
            ],
            "application/vnd.google.colaboratory.intrinsic+json": {
              "type": "string"
            }
          },
          "metadata": {},
          "execution_count": 16
        }
      ]
    }
  ]
}